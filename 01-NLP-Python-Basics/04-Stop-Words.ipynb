{
 "cells": [
  {
   "cell_type": "markdown",
   "metadata": {},
   "source": [
    "___\n",
    "\n",
    "<a href='http://www.pieriandata.com'> <img src='../Pierian_Data_Logo.png' /></a>\n",
    "___"
   ]
  },
  {
   "cell_type": "markdown",
   "metadata": {},
   "source": [
    "# Stop Words\n",
    "Words like \"a\" and \"the\" appear so frequently that they don't require tagging as thoroughly as nouns, verbs and modifiers. We call these *stop words*, and they can be filtered from the text to be processed. spaCy holds a built-in list of some 305 English stop words."
   ]
  },
  {
   "cell_type": "code",
   "execution_count": 1,
   "metadata": {},
   "outputs": [],
   "source": [
    "# Perform standard imports:\n",
    "import spacy\n",
    "nlp = spacy.load('en_core_web_sm')"
   ]
  },
  {
   "cell_type": "code",
   "execution_count": 2,
   "metadata": {},
   "outputs": [
    {
     "name": "stdout",
     "output_type": "stream",
     "text": [
      "{'forty', 'twelve', 'yourself', 'this', 'might', 'next', 'already', 'himself', 'does', 'whereby', 'per', 'therefore', 'mostly', 'really', 'else', 'we', 'them', 'herself', 'have', 'of', 'when', 'any', 'some', '‘m', 'anywhere', 'eight', 'above', 'one', 'me', 'too', 'should', 'various', 'on', 'ten', 'not', 'because', 'though', 'doing', 'become', \"'d\", 'anyhow', 'another', 'same', 'wherever', 'all', 'herein', 'through', 'formerly', 'see', 'always', 'hereby', 'two', 'others', 'becoming', 'part', 'anything', 'those', 'am', 'with', 'give', 'sixty', 'namely', 'amongst', 'ourselves', 'former', 'around', 'nothing', 'alone', 'whereas', '’m', \"'ll\", 'side', 'throughout', 'towards', 'beside', 'again', 'everything', 'at', 'first', 'afterwards', 'except', 'under', 'amount', 'but', 'beforehand', 'whoever', 'seem', 'seemed', 'thus', 'five', 'and', 'fifteen', 'therein', 'sometimes', 'only', '‘ll', 'your', 'anyone', 'out', 'then', 'thereupon', 'whereafter', 'from', 'whenever', 'whom', 'as', 'whose', 'whether', 'eleven', '’s', 'yours', 'full', 'take', 'whereupon', 'almost', 'us', 'over', 'our', 'or', 'whither', 'front', 'if', 'in', 'please', 'while', 'must', 'twenty', 'perhaps', 'further', \"'m\", 'its', 'get', 'made', 'without', 'were', 'often', 'yourselves', 'against', 'nor', 'latter', 'a', 'he', 'been', '’d', 'anyway', 'whole', 'last', 'which', 'behind', 'off', 'something', 'across', \"'s\", 'several', 'together', 'so', 'show', 'never', 'before', 'least', 'did', 'no', 'be', 'elsewhere', 'moreover', 'upon', 'bottom', 'thereafter', 'top', 'both', 'indeed', 'themselves', 'rather', '’ll', 'what', 'many', 'back', 'say', 'wherein', 'nine', 'among', 'unless', 'his', 'these', 'hence', 'will', 'regarding', 'into', 'below', 'each', '‘s', 'move', 'even', 'hers', 'less', 'nevertheless', 'i', 'could', 'everyone', 'here', 'became', 'much', 'why', '’ve', '‘re', 'seems', 'n’t', 'until', 'few', 'keep', 'most', 'beyond', 'quite', 'enough', 'after', 'my', 'n‘t', 'using', 'neither', 'call', 'that', 'toward', 'somehow', 'do', '’re', 'being', 'sometime', \"'re\", 'hereafter', 'latterly', 'ca', 'somewhere', 'down', 'just', 'although', 'has', 'whatever', 'other', 'him', \"n't\", 'would', 'fifty', 'three', 'where', 'was', 'nobody', 'can', 'about', 'during', 'serious', 'once', 'than', 'onto', 'still', 'itself', 'up', 'had', 'put', 'well', 'either', 'an', 'ever', 'meanwhile', 'empty', 'it', 'since', 'six', 'for', 'more', 'own', 'the', 'thru', 'are', '‘ve', 'there', 'every', 'to', 'between', 'very', '‘d', 'used', 'such', 'cannot', 'everywhere', 'yet', 'also', 'you', 'four', 'mine', 'someone', 'however', 'who', 'seeming', 'make', \"'ve\", 'her', 'along', 'within', 'is', 'by', 'their', 'due', 'now', 'noone', 'third', 'myself', 'hereupon', 'name', 'thereby', 'thence', 'may', 'none', 'whence', 're', 'they', 'ours', 'go', 'hundred', 'becomes', 'besides', 'via', 'how', 'nowhere', 'done', 'otherwise', 'she'}\n"
     ]
    }
   ],
   "source": [
    "# Print the set of spaCy's default stop words (remember that sets are unordered):\n",
    "print(nlp.Defaults.stop_words)"
   ]
  },
  {
   "cell_type": "code",
   "execution_count": 3,
   "metadata": {},
   "outputs": [
    {
     "data": {
      "text/plain": [
       "326"
      ]
     },
     "execution_count": 3,
     "metadata": {},
     "output_type": "execute_result"
    }
   ],
   "source": [
    "len(nlp.Defaults.stop_words)"
   ]
  },
  {
   "cell_type": "markdown",
   "metadata": {},
   "source": [
    "## To see if a word is a stop word"
   ]
  },
  {
   "cell_type": "code",
   "execution_count": 4,
   "metadata": {},
   "outputs": [
    {
     "data": {
      "text/plain": [
       "True"
      ]
     },
     "execution_count": 4,
     "metadata": {},
     "output_type": "execute_result"
    }
   ],
   "source": [
    "nlp.vocab['myself'].is_stop"
   ]
  },
  {
   "cell_type": "code",
   "execution_count": 5,
   "metadata": {},
   "outputs": [
    {
     "data": {
      "text/plain": [
       "False"
      ]
     },
     "execution_count": 5,
     "metadata": {},
     "output_type": "execute_result"
    }
   ],
   "source": [
    "nlp.vocab['mystery'].is_stop"
   ]
  },
  {
   "cell_type": "markdown",
   "metadata": {},
   "source": [
    "## To add a stop word\n",
    "There may be times when you wish to add a stop word to the default set. Perhaps you decide that `'btw'` (common shorthand for \"by the way\") should be considered a stop word."
   ]
  },
  {
   "cell_type": "code",
   "execution_count": 6,
   "metadata": {},
   "outputs": [],
   "source": [
    "# Add the word to the set of stop words. Use lowercase!\n",
    "nlp.Defaults.stop_words.add('btw')\n",
    "\n",
    "# Set the stop_word tag on the lexeme\n",
    "nlp.vocab['btw'].is_stop = True"
   ]
  },
  {
   "cell_type": "code",
   "execution_count": 7,
   "metadata": {},
   "outputs": [
    {
     "data": {
      "text/plain": [
       "327"
      ]
     },
     "execution_count": 7,
     "metadata": {},
     "output_type": "execute_result"
    }
   ],
   "source": [
    "len(nlp.Defaults.stop_words)"
   ]
  },
  {
   "cell_type": "code",
   "execution_count": 8,
   "metadata": {},
   "outputs": [
    {
     "data": {
      "text/plain": [
       "True"
      ]
     },
     "execution_count": 8,
     "metadata": {},
     "output_type": "execute_result"
    }
   ],
   "source": [
    "nlp.vocab['btw'].is_stop"
   ]
  },
  {
   "cell_type": "markdown",
   "metadata": {},
   "source": [
    "<font color=green>When adding stop words, always use lowercase. Lexemes are converted to lowercase before being added to **vocab**.</font>"
   ]
  },
  {
   "cell_type": "markdown",
   "metadata": {},
   "source": [
    "## To remove a stop word\n",
    "Alternatively, you may decide that `'beyond'` should not be considered a stop word."
   ]
  },
  {
   "cell_type": "code",
   "execution_count": 9,
   "metadata": {},
   "outputs": [],
   "source": [
    "# Remove the word from the set of stop words\n",
    "nlp.Defaults.stop_words.remove('beyond')\n",
    "\n",
    "# Remove the stop_word tag from the lexeme\n",
    "nlp.vocab['beyond'].is_stop = False"
   ]
  },
  {
   "cell_type": "code",
   "execution_count": 10,
   "metadata": {},
   "outputs": [
    {
     "data": {
      "text/plain": [
       "326"
      ]
     },
     "execution_count": 10,
     "metadata": {},
     "output_type": "execute_result"
    }
   ],
   "source": [
    "len(nlp.Defaults.stop_words)"
   ]
  },
  {
   "cell_type": "code",
   "execution_count": 11,
   "metadata": {},
   "outputs": [
    {
     "data": {
      "text/plain": [
       "False"
      ]
     },
     "execution_count": 11,
     "metadata": {},
     "output_type": "execute_result"
    }
   ],
   "source": [
    "nlp.vocab['beyond'].is_stop"
   ]
  },
  {
   "cell_type": "markdown",
   "metadata": {},
   "source": [
    "Great! Now you should be able to access spaCy's default set of stop words, and add or remove stop words as needed.\n",
    "## Next up: Vocabulary and Matching"
   ]
  }
 ],
 "metadata": {
  "kernelspec": {
   "display_name": ".venv",
   "language": "python",
   "name": "python3"
  },
  "language_info": {
   "codemirror_mode": {
    "name": "ipython",
    "version": 3
   },
   "file_extension": ".py",
   "mimetype": "text/x-python",
   "name": "python",
   "nbconvert_exporter": "python",
   "pygments_lexer": "ipython3",
   "version": "3.10.8"
  },
  "vscode": {
   "interpreter": {
    "hash": "bea5f6f44d1192409256ca33b93b11164cc48346b3dd4457bf7dbb897368421e"
   }
  }
 },
 "nbformat": 4,
 "nbformat_minor": 2
}
